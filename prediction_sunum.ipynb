{
 "cells": [
  {
   "cell_type": "code",
   "execution_count": 18,
   "metadata": {},
   "outputs": [],
   "source": [
    "import pickle as pkl\n",
    "import pandas as pd\n",
    "import numpy as np\n"
   ]
  },
  {
   "cell_type": "code",
   "execution_count": 28,
   "metadata": {},
   "outputs": [],
   "source": [
    "mdl = pkl.load(open('model.pkl', 'rb'))\n",
    "scl = pkl.load(open('sc.pkl', 'rb'))\n",
    "# trs = pkl.load(open('transformer.pkl', 'rb'))"
   ]
  },
  {
   "cell_type": "code",
   "execution_count": 26,
   "metadata": {},
   "outputs": [],
   "source": [
    "data = pd.DataFrame([[0.3,0,83.1,10.0,84.0,1.0,9.9]]) # buraya veri girilecek\n",
    "# 0.3\t0\t0\t83.1\t10.0\t84.0\t1.0\t9.9"
   ]
  },
  {
   "cell_type": "code",
   "execution_count": 27,
   "metadata": {},
   "outputs": [
    {
     "name": "stderr",
     "output_type": "stream",
     "text": [
      "/Users/ibrahimediz/opt/anaconda3/envs/mlp/lib/python3.8/site-packages/sklearn/base.py:450: UserWarning: X does not have valid feature names, but StandardScaler was fitted with feature names\n",
      "  warnings.warn(\n"
     ]
    },
    {
     "ename": "ValueError",
     "evalue": "X has 7 features, but StandardScaler is expecting 10 features as input.",
     "output_type": "error",
     "traceback": [
      "\u001b[0;31m---------------------------------------------------------------------------\u001b[0m",
      "\u001b[0;31mValueError\u001b[0m                                Traceback (most recent call last)",
      "\u001b[1;32m/Users/ibrahimediz/Documents/Projects/ColorML/prediction_sunum.ipynb Cell 4'\u001b[0m in \u001b[0;36m<cell line: 1>\u001b[0;34m()\u001b[0m\n\u001b[0;32m----> <a href='vscode-notebook-cell:/Users/ibrahimediz/Documents/Projects/ColorML/prediction_sunum.ipynb#ch0000003?line=0'>1</a>\u001b[0m scl\u001b[39m.\u001b[39;49mtransform(data)\n\u001b[1;32m      <a href='vscode-notebook-cell:/Users/ibrahimediz/Documents/Projects/ColorML/prediction_sunum.ipynb#ch0000003?line=1'>2</a>\u001b[0m mdl\u001b[39m.\u001b[39mpredict(data)\n",
      "File \u001b[0;32m~/opt/anaconda3/envs/mlp/lib/python3.8/site-packages/sklearn/preprocessing/_data.py:973\u001b[0m, in \u001b[0;36mStandardScaler.transform\u001b[0;34m(self, X, copy)\u001b[0m\n\u001b[1;32m    <a href='file:///Users/ibrahimediz/opt/anaconda3/envs/mlp/lib/python3.8/site-packages/sklearn/preprocessing/_data.py?line=969'>970</a>\u001b[0m check_is_fitted(\u001b[39mself\u001b[39m)\n\u001b[1;32m    <a href='file:///Users/ibrahimediz/opt/anaconda3/envs/mlp/lib/python3.8/site-packages/sklearn/preprocessing/_data.py?line=971'>972</a>\u001b[0m copy \u001b[39m=\u001b[39m copy \u001b[39mif\u001b[39;00m copy \u001b[39mis\u001b[39;00m \u001b[39mnot\u001b[39;00m \u001b[39mNone\u001b[39;00m \u001b[39melse\u001b[39;00m \u001b[39mself\u001b[39m\u001b[39m.\u001b[39mcopy\n\u001b[0;32m--> <a href='file:///Users/ibrahimediz/opt/anaconda3/envs/mlp/lib/python3.8/site-packages/sklearn/preprocessing/_data.py?line=972'>973</a>\u001b[0m X \u001b[39m=\u001b[39m \u001b[39mself\u001b[39;49m\u001b[39m.\u001b[39;49m_validate_data(\n\u001b[1;32m    <a href='file:///Users/ibrahimediz/opt/anaconda3/envs/mlp/lib/python3.8/site-packages/sklearn/preprocessing/_data.py?line=973'>974</a>\u001b[0m     X,\n\u001b[1;32m    <a href='file:///Users/ibrahimediz/opt/anaconda3/envs/mlp/lib/python3.8/site-packages/sklearn/preprocessing/_data.py?line=974'>975</a>\u001b[0m     reset\u001b[39m=\u001b[39;49m\u001b[39mFalse\u001b[39;49;00m,\n\u001b[1;32m    <a href='file:///Users/ibrahimediz/opt/anaconda3/envs/mlp/lib/python3.8/site-packages/sklearn/preprocessing/_data.py?line=975'>976</a>\u001b[0m     accept_sparse\u001b[39m=\u001b[39;49m\u001b[39m\"\u001b[39;49m\u001b[39mcsr\u001b[39;49m\u001b[39m\"\u001b[39;49m,\n\u001b[1;32m    <a href='file:///Users/ibrahimediz/opt/anaconda3/envs/mlp/lib/python3.8/site-packages/sklearn/preprocessing/_data.py?line=976'>977</a>\u001b[0m     copy\u001b[39m=\u001b[39;49mcopy,\n\u001b[1;32m    <a href='file:///Users/ibrahimediz/opt/anaconda3/envs/mlp/lib/python3.8/site-packages/sklearn/preprocessing/_data.py?line=977'>978</a>\u001b[0m     estimator\u001b[39m=\u001b[39;49m\u001b[39mself\u001b[39;49m,\n\u001b[1;32m    <a href='file:///Users/ibrahimediz/opt/anaconda3/envs/mlp/lib/python3.8/site-packages/sklearn/preprocessing/_data.py?line=978'>979</a>\u001b[0m     dtype\u001b[39m=\u001b[39;49mFLOAT_DTYPES,\n\u001b[1;32m    <a href='file:///Users/ibrahimediz/opt/anaconda3/envs/mlp/lib/python3.8/site-packages/sklearn/preprocessing/_data.py?line=979'>980</a>\u001b[0m     force_all_finite\u001b[39m=\u001b[39;49m\u001b[39m\"\u001b[39;49m\u001b[39mallow-nan\u001b[39;49m\u001b[39m\"\u001b[39;49m,\n\u001b[1;32m    <a href='file:///Users/ibrahimediz/opt/anaconda3/envs/mlp/lib/python3.8/site-packages/sklearn/preprocessing/_data.py?line=980'>981</a>\u001b[0m )\n\u001b[1;32m    <a href='file:///Users/ibrahimediz/opt/anaconda3/envs/mlp/lib/python3.8/site-packages/sklearn/preprocessing/_data.py?line=982'>983</a>\u001b[0m \u001b[39mif\u001b[39;00m sparse\u001b[39m.\u001b[39missparse(X):\n\u001b[1;32m    <a href='file:///Users/ibrahimediz/opt/anaconda3/envs/mlp/lib/python3.8/site-packages/sklearn/preprocessing/_data.py?line=983'>984</a>\u001b[0m     \u001b[39mif\u001b[39;00m \u001b[39mself\u001b[39m\u001b[39m.\u001b[39mwith_mean:\n",
      "File \u001b[0;32m~/opt/anaconda3/envs/mlp/lib/python3.8/site-packages/sklearn/base.py:585\u001b[0m, in \u001b[0;36mBaseEstimator._validate_data\u001b[0;34m(self, X, y, reset, validate_separately, **check_params)\u001b[0m\n\u001b[1;32m    <a href='file:///Users/ibrahimediz/opt/anaconda3/envs/mlp/lib/python3.8/site-packages/sklearn/base.py?line=581'>582</a>\u001b[0m     out \u001b[39m=\u001b[39m X, y\n\u001b[1;32m    <a href='file:///Users/ibrahimediz/opt/anaconda3/envs/mlp/lib/python3.8/site-packages/sklearn/base.py?line=583'>584</a>\u001b[0m \u001b[39mif\u001b[39;00m \u001b[39mnot\u001b[39;00m no_val_X \u001b[39mand\u001b[39;00m check_params\u001b[39m.\u001b[39mget(\u001b[39m\"\u001b[39m\u001b[39mensure_2d\u001b[39m\u001b[39m\"\u001b[39m, \u001b[39mTrue\u001b[39;00m):\n\u001b[0;32m--> <a href='file:///Users/ibrahimediz/opt/anaconda3/envs/mlp/lib/python3.8/site-packages/sklearn/base.py?line=584'>585</a>\u001b[0m     \u001b[39mself\u001b[39;49m\u001b[39m.\u001b[39;49m_check_n_features(X, reset\u001b[39m=\u001b[39;49mreset)\n\u001b[1;32m    <a href='file:///Users/ibrahimediz/opt/anaconda3/envs/mlp/lib/python3.8/site-packages/sklearn/base.py?line=586'>587</a>\u001b[0m \u001b[39mreturn\u001b[39;00m out\n",
      "File \u001b[0;32m~/opt/anaconda3/envs/mlp/lib/python3.8/site-packages/sklearn/base.py:400\u001b[0m, in \u001b[0;36mBaseEstimator._check_n_features\u001b[0;34m(self, X, reset)\u001b[0m\n\u001b[1;32m    <a href='file:///Users/ibrahimediz/opt/anaconda3/envs/mlp/lib/python3.8/site-packages/sklearn/base.py?line=396'>397</a>\u001b[0m     \u001b[39mreturn\u001b[39;00m\n\u001b[1;32m    <a href='file:///Users/ibrahimediz/opt/anaconda3/envs/mlp/lib/python3.8/site-packages/sklearn/base.py?line=398'>399</a>\u001b[0m \u001b[39mif\u001b[39;00m n_features \u001b[39m!=\u001b[39m \u001b[39mself\u001b[39m\u001b[39m.\u001b[39mn_features_in_:\n\u001b[0;32m--> <a href='file:///Users/ibrahimediz/opt/anaconda3/envs/mlp/lib/python3.8/site-packages/sklearn/base.py?line=399'>400</a>\u001b[0m     \u001b[39mraise\u001b[39;00m \u001b[39mValueError\u001b[39;00m(\n\u001b[1;32m    <a href='file:///Users/ibrahimediz/opt/anaconda3/envs/mlp/lib/python3.8/site-packages/sklearn/base.py?line=400'>401</a>\u001b[0m         \u001b[39mf\u001b[39m\u001b[39m\"\u001b[39m\u001b[39mX has \u001b[39m\u001b[39m{\u001b[39;00mn_features\u001b[39m}\u001b[39;00m\u001b[39m features, but \u001b[39m\u001b[39m{\u001b[39;00m\u001b[39mself\u001b[39m\u001b[39m.\u001b[39m\u001b[39m__class__\u001b[39m\u001b[39m.\u001b[39m\u001b[39m__name__\u001b[39m\u001b[39m}\u001b[39;00m\u001b[39m \u001b[39m\u001b[39m\"\u001b[39m\n\u001b[1;32m    <a href='file:///Users/ibrahimediz/opt/anaconda3/envs/mlp/lib/python3.8/site-packages/sklearn/base.py?line=401'>402</a>\u001b[0m         \u001b[39mf\u001b[39m\u001b[39m\"\u001b[39m\u001b[39mis expecting \u001b[39m\u001b[39m{\u001b[39;00m\u001b[39mself\u001b[39m\u001b[39m.\u001b[39mn_features_in_\u001b[39m}\u001b[39;00m\u001b[39m features as input.\u001b[39m\u001b[39m\"\u001b[39m\n\u001b[1;32m    <a href='file:///Users/ibrahimediz/opt/anaconda3/envs/mlp/lib/python3.8/site-packages/sklearn/base.py?line=402'>403</a>\u001b[0m     )\n",
      "\u001b[0;31mValueError\u001b[0m: X has 7 features, but StandardScaler is expecting 10 features as input."
     ]
    }
   ],
   "source": [
    "scl.transform(data)\n",
    "mdl.predict(data)\n"
   ]
  },
  {
   "cell_type": "code",
   "execution_count": null,
   "metadata": {},
   "outputs": [],
   "source": []
  }
 ],
 "metadata": {
  "interpreter": {
   "hash": "796538bcf775cddaa406b2b72680ba7054d7edeea2d338922596525530946a08"
  },
  "kernelspec": {
   "display_name": "Python 3.8.12",
   "language": "python",
   "name": "python3"
  },
  "language_info": {
   "codemirror_mode": {
    "name": "ipython",
    "version": 3
   },
   "file_extension": ".py",
   "mimetype": "text/x-python",
   "name": "python",
   "nbconvert_exporter": "python",
   "pygments_lexer": "ipython3",
   "version": "3.8.12"
  },
  "orig_nbformat": 4
 },
 "nbformat": 4,
 "nbformat_minor": 2
}
